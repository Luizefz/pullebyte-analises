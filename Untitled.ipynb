{
 "cells": [
  {
   "cell_type": "code",
   "execution_count": 28,
   "id": "189b8f97-8cdc-4618-b76b-fd20d0d12c0a",
   "metadata": {},
   "outputs": [
    {
     "data": {
      "text/html": [
       "<div>\n",
       "<style scoped>\n",
       "    .dataframe tbody tr th:only-of-type {\n",
       "        vertical-align: middle;\n",
       "    }\n",
       "\n",
       "    .dataframe tbody tr th {\n",
       "        vertical-align: top;\n",
       "    }\n",
       "\n",
       "    .dataframe thead th {\n",
       "        text-align: right;\n",
       "    }\n",
       "</style>\n",
       "<table border=\"1\" class=\"dataframe\">\n",
       "  <thead>\n",
       "    <tr style=\"text-align: right;\">\n",
       "      <th></th>\n",
       "      <th>appearance_id</th>\n",
       "      <th>game_id</th>\n",
       "      <th>player_id</th>\n",
       "      <th>player_club_id</th>\n",
       "      <th>player_current_club_id</th>\n",
       "      <th>date</th>\n",
       "      <th>player_name</th>\n",
       "      <th>competition_id</th>\n",
       "      <th>yellow_cards</th>\n",
       "      <th>red_cards</th>\n",
       "      <th>goals</th>\n",
       "      <th>assists</th>\n",
       "      <th>minutes_played</th>\n",
       "    </tr>\n",
       "  </thead>\n",
       "  <tbody>\n",
       "    <tr>\n",
       "      <th>0</th>\n",
       "      <td>2231978_38004</td>\n",
       "      <td>2231978</td>\n",
       "      <td>38004</td>\n",
       "      <td>853</td>\n",
       "      <td>235</td>\n",
       "      <td>2012-07-03</td>\n",
       "      <td>Aurélien Joachim</td>\n",
       "      <td>CLQ</td>\n",
       "      <td>0</td>\n",
       "      <td>0</td>\n",
       "      <td>2</td>\n",
       "      <td>0</td>\n",
       "      <td>90</td>\n",
       "    </tr>\n",
       "    <tr>\n",
       "      <th>1</th>\n",
       "      <td>2233748_79232</td>\n",
       "      <td>2233748</td>\n",
       "      <td>79232</td>\n",
       "      <td>8841</td>\n",
       "      <td>2698</td>\n",
       "      <td>2012-07-05</td>\n",
       "      <td>Ruslan Abyshov</td>\n",
       "      <td>ELQ</td>\n",
       "      <td>0</td>\n",
       "      <td>0</td>\n",
       "      <td>0</td>\n",
       "      <td>0</td>\n",
       "      <td>90</td>\n",
       "    </tr>\n",
       "    <tr>\n",
       "      <th>2</th>\n",
       "      <td>2234413_42792</td>\n",
       "      <td>2234413</td>\n",
       "      <td>42792</td>\n",
       "      <td>6251</td>\n",
       "      <td>465</td>\n",
       "      <td>2012-07-05</td>\n",
       "      <td>Sander Puri</td>\n",
       "      <td>ELQ</td>\n",
       "      <td>0</td>\n",
       "      <td>0</td>\n",
       "      <td>0</td>\n",
       "      <td>0</td>\n",
       "      <td>45</td>\n",
       "    </tr>\n",
       "    <tr>\n",
       "      <th>3</th>\n",
       "      <td>2234418_73333</td>\n",
       "      <td>2234418</td>\n",
       "      <td>73333</td>\n",
       "      <td>1274</td>\n",
       "      <td>6646</td>\n",
       "      <td>2012-07-05</td>\n",
       "      <td>Vegar Hedenstad</td>\n",
       "      <td>ELQ</td>\n",
       "      <td>0</td>\n",
       "      <td>0</td>\n",
       "      <td>0</td>\n",
       "      <td>0</td>\n",
       "      <td>90</td>\n",
       "    </tr>\n",
       "    <tr>\n",
       "      <th>4</th>\n",
       "      <td>2234421_122011</td>\n",
       "      <td>2234421</td>\n",
       "      <td>122011</td>\n",
       "      <td>195</td>\n",
       "      <td>3008</td>\n",
       "      <td>2012-07-05</td>\n",
       "      <td>Markus Henriksen</td>\n",
       "      <td>ELQ</td>\n",
       "      <td>0</td>\n",
       "      <td>0</td>\n",
       "      <td>0</td>\n",
       "      <td>1</td>\n",
       "      <td>90</td>\n",
       "    </tr>\n",
       "  </tbody>\n",
       "</table>\n",
       "</div>"
      ],
      "text/plain": [
       "    appearance_id  game_id  player_id  player_club_id  player_current_club_id  \\\n",
       "0   2231978_38004  2231978      38004             853                     235   \n",
       "1   2233748_79232  2233748      79232            8841                    2698   \n",
       "2   2234413_42792  2234413      42792            6251                     465   \n",
       "3   2234418_73333  2234418      73333            1274                    6646   \n",
       "4  2234421_122011  2234421     122011             195                    3008   \n",
       "\n",
       "         date       player_name competition_id  yellow_cards  red_cards  \\\n",
       "0  2012-07-03  Aurélien Joachim            CLQ             0          0   \n",
       "1  2012-07-05    Ruslan Abyshov            ELQ             0          0   \n",
       "2  2012-07-05       Sander Puri            ELQ             0          0   \n",
       "3  2012-07-05   Vegar Hedenstad            ELQ             0          0   \n",
       "4  2012-07-05  Markus Henriksen            ELQ             0          0   \n",
       "\n",
       "   goals  assists  minutes_played  \n",
       "0      2        0              90  \n",
       "1      0        0              90  \n",
       "2      0        0              45  \n",
       "3      0        0              90  \n",
       "4      0        1              90  "
      ]
     },
     "execution_count": 28,
     "metadata": {},
     "output_type": "execute_result"
    }
   ],
   "source": [
    "import pandas as pd\n",
    "import numpy as np\n",
    "import matplotlib.pyplot as plt\n",
    "import seaborn as sns\n",
    "\n",
    "pd.set_option('display.max_columns', None)\n",
    "pd.set_option('display.max_rows', None)\n",
    "pd.options.display.float_format = '{:.2f}'.format\n",
    "df_original = pd.read_parquet(r\"DataSet Project/football-transfermarkt-dataset-01/appearances.parquet\")\n",
    "df_original.head()\n",
    "\n",
    "#df_original.isnull().sum()         "
   ]
  },
  {
   "cell_type": "code",
   "execution_count": 2,
   "id": "4bae4bde-3616-4aaa-90b6-14819d54ac96",
   "metadata": {},
   "outputs": [
    {
     "data": {
      "text/plain": [
       "(478176, 5)"
      ]
     },
     "execution_count": 2,
     "metadata": {},
     "output_type": "execute_result"
    }
   ],
   "source": [
    "df_original.shape"
   ]
  },
  {
   "cell_type": "code",
   "execution_count": 3,
   "id": "00ea001e-1345-4e78-9d04-6bfd6e516c90",
   "metadata": {},
   "outputs": [
    {
     "name": "stdout",
     "output_type": "stream",
     "text": [
      "<class 'pandas.core.frame.DataFrame'>\n",
      "RangeIndex: 478176 entries, 0 to 478175\n",
      "Data columns (total 5 columns):\n",
      " #   Column                               Non-Null Count   Dtype \n",
      "---  ------                               --------------   ----- \n",
      " 0   player_id                            478176 non-null  int64 \n",
      " 1   date                                 478176 non-null  object\n",
      " 2   market_value_in_eur                  478176 non-null  int64 \n",
      " 3   current_club_id                      478176 non-null  int64 \n",
      " 4   player_club_domestic_competition_id  478176 non-null  object\n",
      "dtypes: int64(3), object(2)\n",
      "memory usage: 18.2+ MB\n"
     ]
    }
   ],
   "source": [
    "df_original.info()"
   ]
  },
  {
   "cell_type": "code",
   "execution_count": 4,
   "id": "03841dc6-ad14-4663-9f4d-86c5aea6cfe2",
   "metadata": {
    "scrolled": true
   },
   "outputs": [
    {
     "data": {
      "text/html": [
       "<div>\n",
       "<style scoped>\n",
       "    .dataframe tbody tr th:only-of-type {\n",
       "        vertical-align: middle;\n",
       "    }\n",
       "\n",
       "    .dataframe tbody tr th {\n",
       "        vertical-align: top;\n",
       "    }\n",
       "\n",
       "    .dataframe thead th {\n",
       "        text-align: right;\n",
       "    }\n",
       "</style>\n",
       "<table border=\"1\" class=\"dataframe\">\n",
       "  <thead>\n",
       "    <tr style=\"text-align: right;\">\n",
       "      <th></th>\n",
       "      <th>player_id</th>\n",
       "      <th>market_value_in_eur</th>\n",
       "      <th>current_club_id</th>\n",
       "    </tr>\n",
       "  </thead>\n",
       "  <tbody>\n",
       "    <tr>\n",
       "      <th>count</th>\n",
       "      <td>478176.00</td>\n",
       "      <td>478176.00</td>\n",
       "      <td>478176.00</td>\n",
       "    </tr>\n",
       "    <tr>\n",
       "      <th>mean</th>\n",
       "      <td>213003.84</td>\n",
       "      <td>2410054.93</td>\n",
       "      <td>4122.20</td>\n",
       "    </tr>\n",
       "    <tr>\n",
       "      <th>std</th>\n",
       "      <td>195655.98</td>\n",
       "      <td>6814635.89</td>\n",
       "      <td>9683.19</td>\n",
       "    </tr>\n",
       "    <tr>\n",
       "      <th>min</th>\n",
       "      <td>10.00</td>\n",
       "      <td>0.00</td>\n",
       "      <td>3.00</td>\n",
       "    </tr>\n",
       "    <tr>\n",
       "      <th>25%</th>\n",
       "      <td>57825.00</td>\n",
       "      <td>200000.00</td>\n",
       "      <td>369.00</td>\n",
       "    </tr>\n",
       "    <tr>\n",
       "      <th>50%</th>\n",
       "      <td>157635.00</td>\n",
       "      <td>500000.00</td>\n",
       "      <td>1010.00</td>\n",
       "    </tr>\n",
       "    <tr>\n",
       "      <th>75%</th>\n",
       "      <td>315853.00</td>\n",
       "      <td>1600000.00</td>\n",
       "      <td>2969.00</td>\n",
       "    </tr>\n",
       "    <tr>\n",
       "      <th>max</th>\n",
       "      <td>1247360.00</td>\n",
       "      <td>200000000.00</td>\n",
       "      <td>83678.00</td>\n",
       "    </tr>\n",
       "  </tbody>\n",
       "</table>\n",
       "</div>"
      ],
      "text/plain": [
       "       player_id  market_value_in_eur  current_club_id\n",
       "count  478176.00            478176.00        478176.00\n",
       "mean   213003.84           2410054.93          4122.20\n",
       "std    195655.98           6814635.89          9683.19\n",
       "min        10.00                 0.00             3.00\n",
       "25%     57825.00            200000.00           369.00\n",
       "50%    157635.00            500000.00          1010.00\n",
       "75%    315853.00           1600000.00          2969.00\n",
       "max   1247360.00         200000000.00         83678.00"
      ]
     },
     "execution_count": 4,
     "metadata": {},
     "output_type": "execute_result"
    }
   ],
   "source": [
    "df_original.describe()"
   ]
  },
  {
   "cell_type": "code",
   "execution_count": 27,
   "id": "c5155c59-b53a-46ae-97aa-d32df9730364",
   "metadata": {
    "scrolled": true
   },
   "outputs": [
    {
     "data": {
      "text/plain": [
       "player_club_domestic_competition_id\n",
       "BE1     29590\n",
       "DK1     23130\n",
       "ES1     40277\n",
       "FR1     32370\n",
       "GB1     31634\n",
       "GR1     38615\n",
       "IT1     53056\n",
       "L1      36191\n",
       "NL1     29646\n",
       "PO1     33182\n",
       "RU1     35062\n",
       "SC1     19132\n",
       "TR1     53730\n",
       "UKR1    22561\n",
       "dtype: int64"
      ]
     },
     "execution_count": 27,
     "metadata": {},
     "output_type": "execute_result"
    }
   ],
   "source": [
    "df_original.groupby(['player_club_domestic_competition_id']).size()"
   ]
  },
  {
   "cell_type": "code",
   "execution_count": null,
   "id": "1cd3732d-9946-454b-9763-1ac6139118fb",
   "metadata": {},
   "outputs": [],
   "source": [
    "df_original.date.value_counts().plot(kind='bar',title='',color=['#219ebc', '#023047']);"
   ]
  },
  {
   "cell_type": "code",
   "execution_count": null,
   "id": "25458219-7f83-4f02-9926-ed774aceb16e",
   "metadata": {
    "scrolled": true
   },
   "outputs": [],
   "source": [
    "df_original.isnull().sum()"
   ]
  },
  {
   "cell_type": "code",
   "execution_count": 18,
   "id": "68d39f75-2826-4d8f-b749-1f2faa34824e",
   "metadata": {
    "scrolled": true
   },
   "outputs": [],
   "source": [
    "df_original['date'] = df_original['date'].astype('datetime64[ns]')"
   ]
  },
  {
   "cell_type": "code",
   "execution_count": 20,
   "id": "59f1125d-2e32-49e1-b039-3e06657f5bb7",
   "metadata": {},
   "outputs": [
    {
     "name": "stdout",
     "output_type": "stream",
     "text": [
      "<class 'pandas.core.frame.DataFrame'>\n",
      "RangeIndex: 478176 entries, 0 to 478175\n",
      "Data columns (total 5 columns):\n",
      " #   Column                               Non-Null Count   Dtype         \n",
      "---  ------                               --------------   -----         \n",
      " 0   player_id                            478176 non-null  int64         \n",
      " 1   date                                 478176 non-null  datetime64[ns]\n",
      " 2   market_value_in_eur                  478176 non-null  int64         \n",
      " 3   current_club_id                      478176 non-null  int64         \n",
      " 4   player_club_domestic_competition_id  478176 non-null  object        \n",
      "dtypes: datetime64[ns](1), int64(3), object(1)\n",
      "memory usage: 18.2+ MB\n"
     ]
    }
   ],
   "source": [
    "df_original.info()"
   ]
  },
  {
   "cell_type": "code",
   "execution_count": null,
   "id": "4f11c7f5-ec58-4fb6-b744-79f08efb2245",
   "metadata": {},
   "outputs": [],
   "source": []
  },
  {
   "cell_type": "code",
   "execution_count": null,
   "id": "a176c1bc-fbc0-412f-9768-86e10f352702",
   "metadata": {},
   "outputs": [],
   "source": []
  }
 ],
 "metadata": {
  "kernelspec": {
   "display_name": "Python 3 (ipykernel)",
   "language": "python",
   "name": "python3"
  },
  "language_info": {
   "codemirror_mode": {
    "name": "ipython",
    "version": 3
   },
   "file_extension": ".py",
   "mimetype": "text/x-python",
   "name": "python",
   "nbconvert_exporter": "python",
   "pygments_lexer": "ipython3",
   "version": "3.10.12"
  }
 },
 "nbformat": 4,
 "nbformat_minor": 5
}
